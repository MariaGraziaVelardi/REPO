{
 "cells": [
  {
   "cell_type": "code",
   "execution_count": 8,
   "metadata": {},
   "outputs": [
    {
     "data": {
      "text/plain": [
       "array([[0, 1, 2],\n",
       "       [3, 4, 5],\n",
       "       [6, 7, 8]])"
      ]
     },
     "execution_count": 8,
     "metadata": {},
     "output_type": "execute_result"
    }
   ],
   "source": [
    "#Crea una matrice 3x3 con valori compresi tra 0 e 8\n",
    "import numpy as np\n",
    "first_array = np.arange(9).reshape(3,3)\n",
    "first_array"
   ]
  },
  {
   "cell_type": "code",
   "execution_count": 2,
   "metadata": {},
   "outputs": [
    {
     "name": "stdout",
     "output_type": "stream",
     "text": [
      "[[0.73776124 0.82673754 0.23800002 0.86412186 0.75927361 0.21554435\n",
      "  0.35742448 0.99387137 0.98511033 0.04369211]\n",
      " [0.23240543 0.54646035 0.17077516 0.59265889 0.79061106 0.91762083\n",
      "  0.70064527 0.5400729  0.14189894 0.21297408]\n",
      " [0.46642958 0.27799504 0.43148006 0.34734809 0.51475353 0.61459752\n",
      "  0.594598   0.13356953 0.16684372 0.05004539]]\n"
     ]
    },
    {
     "data": {
      "text/plain": [
       "0.48217734239033144"
      ]
     },
     "execution_count": 2,
     "metadata": {},
     "output_type": "execute_result"
    }
   ],
   "source": [
    "#Crea un vettore random con 30 elementi e trova il valore medio\n",
    "import numpy as np\n",
    "v = np.random.random((3,10))\n",
    "print(v)\n",
    "v.mean()"
   ]
  },
  {
   "cell_type": "code",
   "execution_count": 7,
   "metadata": {},
   "outputs": [
    {
     "name": "stdout",
     "output_type": "stream",
     "text": [
      "(array([0, 1, 3, 5], dtype=int64),)\n",
      "(array([0, 1, 3, 5], dtype=int64),)\n"
     ]
    }
   ],
   "source": [
    "#Trova gli indici degli elementi diversi da zero del seguente array [3,5,0,4,0,8,0]\n",
    "import numpy as np\n",
    "v = np.array([3,5,0,4,0,8,0])\n",
    "print(np.where(v!=0))\n",
    "\n",
    "#oppure\n",
    "\n",
    "print(np.nonzero(v))"
   ]
  },
  {
   "cell_type": "code",
   "execution_count": 24,
   "metadata": {},
   "outputs": [
    {
     "name": "stdout",
     "output_type": "stream",
     "text": [
      "[0 3 4 6 1 5 2]\n"
     ]
    }
   ],
   "source": [
    "#Scrivi un programma per ottenere gli indici degli elementi ordinati di un dato array\n",
    "import numpy as np\n",
    "v = np.array([1023, 5202, 6230, 1671, 1682, 5241, 4532])\n",
    "print(np.argsort(v))"
   ]
  },
  {
   "cell_type": "code",
   "execution_count": 4,
   "metadata": {},
   "outputs": [
    {
     "name": "stdout",
     "output_type": "stream",
     "text": [
      "[[ 6  7  8  9]\n",
      " [10 11 12 13]\n",
      " [14 15 16 17]\n",
      " [18 19 20 21]\n",
      " [22 23 24 25]\n",
      " [26 27 28 29]]\n",
      "[ 7.5 11.5 15.5 19.5 23.5 27.5]\n",
      "[16. 17. 18. 19.]\n"
     ]
    }
   ],
   "source": [
    "#Scrivi un programma che calcola la media attraverso la dimensione, in un array 2D(media di ogni colonna, media di ogni riga)\n",
    "import numpy as np\n",
    "m = np.arange(6, 30).reshape(6,4)\n",
    "print(m)\n",
    "print(m.mean(axis=1))     \n",
    "print(m.mean(axis=0))\n"
   ]
  }
 ],
 "metadata": {
  "kernelspec": {
   "display_name": "Python 3",
   "language": "python",
   "name": "python3"
  },
  "language_info": {
   "codemirror_mode": {
    "name": "ipython",
    "version": 3
   },
   "file_extension": ".py",
   "mimetype": "text/x-python",
   "name": "python",
   "nbconvert_exporter": "python",
   "pygments_lexer": "ipython3",
   "version": "3.8.5"
  }
 },
 "nbformat": 4,
 "nbformat_minor": 4
}
