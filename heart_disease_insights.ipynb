{
 "cells": [
  {
   "cell_type": "markdown",
   "metadata": {},
   "source": [
    "# Heart disease ICU insights and data visualization"
   ]
  },
  {
   "cell_type": "code",
   "execution_count": 91,
   "metadata": {},
   "outputs": [],
   "source": [
    "import numpy as np\n",
    "import pandas as pd\n",
    "import matplotlib.pyplot as plt\n",
    "%matplotlib inline\n",
    "import seaborn\n",
    "seaborn.set(palette=\"pastel\")\n",
    "raw_data = pd.read_csv(\"heart.csv\")"
   ]
  },
  {
   "cell_type": "code",
   "execution_count": 92,
   "metadata": {},
   "outputs": [
    {
     "data": {
      "text/html": [
       "<div>\n",
       "<style scoped>\n",
       "    .dataframe tbody tr th:only-of-type {\n",
       "        vertical-align: middle;\n",
       "    }\n",
       "\n",
       "    .dataframe tbody tr th {\n",
       "        vertical-align: top;\n",
       "    }\n",
       "\n",
       "    .dataframe thead th {\n",
       "        text-align: right;\n",
       "    }\n",
       "</style>\n",
       "<table border=\"1\" class=\"dataframe\">\n",
       "  <thead>\n",
       "    <tr style=\"text-align: right;\">\n",
       "      <th></th>\n",
       "      <th>age</th>\n",
       "      <th>sex</th>\n",
       "      <th>cp</th>\n",
       "      <th>trestbps</th>\n",
       "      <th>chol</th>\n",
       "      <th>fbs</th>\n",
       "      <th>restecg</th>\n",
       "      <th>thalach</th>\n",
       "      <th>exang</th>\n",
       "      <th>oldpeak</th>\n",
       "      <th>slope</th>\n",
       "      <th>ca</th>\n",
       "      <th>thal</th>\n",
       "      <th>target</th>\n",
       "    </tr>\n",
       "  </thead>\n",
       "  <tbody>\n",
       "    <tr>\n",
       "      <th>0</th>\n",
       "      <td>63</td>\n",
       "      <td>1</td>\n",
       "      <td>3</td>\n",
       "      <td>145</td>\n",
       "      <td>233</td>\n",
       "      <td>1</td>\n",
       "      <td>0</td>\n",
       "      <td>150</td>\n",
       "      <td>0</td>\n",
       "      <td>2.3</td>\n",
       "      <td>0</td>\n",
       "      <td>0</td>\n",
       "      <td>1</td>\n",
       "      <td>1</td>\n",
       "    </tr>\n",
       "    <tr>\n",
       "      <th>1</th>\n",
       "      <td>37</td>\n",
       "      <td>1</td>\n",
       "      <td>2</td>\n",
       "      <td>130</td>\n",
       "      <td>250</td>\n",
       "      <td>0</td>\n",
       "      <td>1</td>\n",
       "      <td>187</td>\n",
       "      <td>0</td>\n",
       "      <td>3.5</td>\n",
       "      <td>0</td>\n",
       "      <td>0</td>\n",
       "      <td>2</td>\n",
       "      <td>1</td>\n",
       "    </tr>\n",
       "    <tr>\n",
       "      <th>2</th>\n",
       "      <td>41</td>\n",
       "      <td>0</td>\n",
       "      <td>1</td>\n",
       "      <td>130</td>\n",
       "      <td>204</td>\n",
       "      <td>0</td>\n",
       "      <td>0</td>\n",
       "      <td>172</td>\n",
       "      <td>0</td>\n",
       "      <td>1.4</td>\n",
       "      <td>2</td>\n",
       "      <td>0</td>\n",
       "      <td>2</td>\n",
       "      <td>1</td>\n",
       "    </tr>\n",
       "    <tr>\n",
       "      <th>3</th>\n",
       "      <td>56</td>\n",
       "      <td>1</td>\n",
       "      <td>1</td>\n",
       "      <td>120</td>\n",
       "      <td>236</td>\n",
       "      <td>0</td>\n",
       "      <td>1</td>\n",
       "      <td>178</td>\n",
       "      <td>0</td>\n",
       "      <td>0.8</td>\n",
       "      <td>2</td>\n",
       "      <td>0</td>\n",
       "      <td>2</td>\n",
       "      <td>1</td>\n",
       "    </tr>\n",
       "    <tr>\n",
       "      <th>4</th>\n",
       "      <td>57</td>\n",
       "      <td>0</td>\n",
       "      <td>0</td>\n",
       "      <td>120</td>\n",
       "      <td>354</td>\n",
       "      <td>0</td>\n",
       "      <td>1</td>\n",
       "      <td>163</td>\n",
       "      <td>1</td>\n",
       "      <td>0.6</td>\n",
       "      <td>2</td>\n",
       "      <td>0</td>\n",
       "      <td>2</td>\n",
       "      <td>1</td>\n",
       "    </tr>\n",
       "  </tbody>\n",
       "</table>\n",
       "</div>"
      ],
      "text/plain": [
       "   age  sex  cp  trestbps  chol  fbs  restecg  thalach  exang  oldpeak  slope  \\\n",
       "0   63    1   3       145   233    1        0      150      0      2.3      0   \n",
       "1   37    1   2       130   250    0        1      187      0      3.5      0   \n",
       "2   41    0   1       130   204    0        0      172      0      1.4      2   \n",
       "3   56    1   1       120   236    0        1      178      0      0.8      2   \n",
       "4   57    0   0       120   354    0        1      163      1      0.6      2   \n",
       "\n",
       "   ca  thal  target  \n",
       "0   0     1       1  \n",
       "1   0     2       1  \n",
       "2   0     2       1  \n",
       "3   0     2       1  \n",
       "4   0     2       1  "
      ]
     },
     "execution_count": 92,
     "metadata": {},
     "output_type": "execute_result"
    }
   ],
   "source": [
    "raw_data.head()"
   ]
  },
  {
   "cell_type": "code",
   "execution_count": 93,
   "metadata": {},
   "outputs": [
    {
     "data": {
      "text/plain": [
       "(303, 14)"
      ]
     },
     "execution_count": 93,
     "metadata": {},
     "output_type": "execute_result"
    }
   ],
   "source": [
    "raw_data.shape"
   ]
  },
  {
   "cell_type": "code",
   "execution_count": 94,
   "metadata": {},
   "outputs": [
    {
     "data": {
      "text/plain": [
       "count    303.000000\n",
       "mean     246.264026\n",
       "std       51.830751\n",
       "min      126.000000\n",
       "25%      211.000000\n",
       "50%      240.000000\n",
       "75%      274.500000\n",
       "max      564.000000\n",
       "Name: chol, dtype: float64"
      ]
     },
     "execution_count": 94,
     "metadata": {},
     "output_type": "execute_result"
    }
   ],
   "source": [
    "#calcolo la media e deviazione standard dei valori di colesterolo\n",
    "raw_data.chol.describe()"
   ]
  },
  {
   "cell_type": "code",
   "execution_count": 95,
   "metadata": {},
   "outputs": [
    {
     "data": {
      "text/plain": [
       "Index(['age', 'sex', 'cp', 'trestbps', 'chol', 'fbs', 'restecg', 'thalach',\n",
       "       'exang', 'oldpeak', 'slope', 'ca', 'thal', 'target'],\n",
       "      dtype='object')"
      ]
     },
     "execution_count": 95,
     "metadata": {},
     "output_type": "execute_result"
    }
   ],
   "source": [
    "raw_data.columns"
   ]
  },
  {
   "cell_type": "code",
   "execution_count": 96,
   "metadata": {},
   "outputs": [],
   "source": [
    "definitions = {\"age\":\"age\", \"sex\":\"sex\",\"cp\" : \"chest_pain_type\", \n",
    "               \"trestbps\" : \"resting_blood_pressure\",\"chol\" : \"serum_cholesterol\", \n",
    "               \"fbs\":\"blood_sugar\", \"restecg\":\"resting_electrocardiographic_results\", \n",
    "               \"thalac\": \"maximum_heart_rate\", \"exang\": \"exercise_induced_angina\", \n",
    "               \"oldpeak\": \"st_depression_induced_by_exercise\", \n",
    "               \"slope\": \"slope_of_the_peak_exercise_ST_segment\", \n",
    "               \"ca\": \"number_of_major_vessels_(0-3)_colored_by_flourosopy\", \n",
    "               \"thal\": \"3=normal_6=fixed_defect_7=reversable_defect\", \n",
    "               \"target\": \"presence_of_heart_disease\"}\n"
   ]
  },
  {
   "cell_type": "code",
   "execution_count": 97,
   "metadata": {},
   "outputs": [
    {
     "data": {
      "text/html": [
       "<div>\n",
       "<style scoped>\n",
       "    .dataframe tbody tr th:only-of-type {\n",
       "        vertical-align: middle;\n",
       "    }\n",
       "\n",
       "    .dataframe tbody tr th {\n",
       "        vertical-align: top;\n",
       "    }\n",
       "\n",
       "    .dataframe thead th {\n",
       "        text-align: right;\n",
       "    }\n",
       "</style>\n",
       "<table border=\"1\" class=\"dataframe\">\n",
       "  <thead>\n",
       "    <tr style=\"text-align: right;\">\n",
       "      <th></th>\n",
       "      <th>age</th>\n",
       "      <th>sex</th>\n",
       "      <th>resting_blood_pressure</th>\n",
       "      <th>serum_cholesterol</th>\n",
       "      <th>blood_sugar</th>\n",
       "      <th>maximum_heart_rate</th>\n",
       "      <th>presence_of_heart_disease</th>\n",
       "    </tr>\n",
       "  </thead>\n",
       "  <tbody>\n",
       "    <tr>\n",
       "      <th>0</th>\n",
       "      <td>63</td>\n",
       "      <td>1</td>\n",
       "      <td>145</td>\n",
       "      <td>233</td>\n",
       "      <td>1</td>\n",
       "      <td>150</td>\n",
       "      <td>1</td>\n",
       "    </tr>\n",
       "    <tr>\n",
       "      <th>1</th>\n",
       "      <td>37</td>\n",
       "      <td>1</td>\n",
       "      <td>130</td>\n",
       "      <td>250</td>\n",
       "      <td>0</td>\n",
       "      <td>187</td>\n",
       "      <td>1</td>\n",
       "    </tr>\n",
       "    <tr>\n",
       "      <th>2</th>\n",
       "      <td>41</td>\n",
       "      <td>0</td>\n",
       "      <td>130</td>\n",
       "      <td>204</td>\n",
       "      <td>0</td>\n",
       "      <td>172</td>\n",
       "      <td>1</td>\n",
       "    </tr>\n",
       "    <tr>\n",
       "      <th>3</th>\n",
       "      <td>56</td>\n",
       "      <td>1</td>\n",
       "      <td>120</td>\n",
       "      <td>236</td>\n",
       "      <td>0</td>\n",
       "      <td>178</td>\n",
       "      <td>1</td>\n",
       "    </tr>\n",
       "    <tr>\n",
       "      <th>4</th>\n",
       "      <td>57</td>\n",
       "      <td>0</td>\n",
       "      <td>120</td>\n",
       "      <td>354</td>\n",
       "      <td>0</td>\n",
       "      <td>163</td>\n",
       "      <td>1</td>\n",
       "    </tr>\n",
       "    <tr>\n",
       "      <th>...</th>\n",
       "      <td>...</td>\n",
       "      <td>...</td>\n",
       "      <td>...</td>\n",
       "      <td>...</td>\n",
       "      <td>...</td>\n",
       "      <td>...</td>\n",
       "      <td>...</td>\n",
       "    </tr>\n",
       "    <tr>\n",
       "      <th>298</th>\n",
       "      <td>57</td>\n",
       "      <td>0</td>\n",
       "      <td>140</td>\n",
       "      <td>241</td>\n",
       "      <td>0</td>\n",
       "      <td>123</td>\n",
       "      <td>0</td>\n",
       "    </tr>\n",
       "    <tr>\n",
       "      <th>299</th>\n",
       "      <td>45</td>\n",
       "      <td>1</td>\n",
       "      <td>110</td>\n",
       "      <td>264</td>\n",
       "      <td>0</td>\n",
       "      <td>132</td>\n",
       "      <td>0</td>\n",
       "    </tr>\n",
       "    <tr>\n",
       "      <th>300</th>\n",
       "      <td>68</td>\n",
       "      <td>1</td>\n",
       "      <td>144</td>\n",
       "      <td>193</td>\n",
       "      <td>1</td>\n",
       "      <td>141</td>\n",
       "      <td>0</td>\n",
       "    </tr>\n",
       "    <tr>\n",
       "      <th>301</th>\n",
       "      <td>57</td>\n",
       "      <td>1</td>\n",
       "      <td>130</td>\n",
       "      <td>131</td>\n",
       "      <td>0</td>\n",
       "      <td>115</td>\n",
       "      <td>0</td>\n",
       "    </tr>\n",
       "    <tr>\n",
       "      <th>302</th>\n",
       "      <td>57</td>\n",
       "      <td>0</td>\n",
       "      <td>130</td>\n",
       "      <td>236</td>\n",
       "      <td>0</td>\n",
       "      <td>174</td>\n",
       "      <td>0</td>\n",
       "    </tr>\n",
       "  </tbody>\n",
       "</table>\n",
       "<p>303 rows × 7 columns</p>\n",
       "</div>"
      ],
      "text/plain": [
       "     age  sex  resting_blood_pressure  serum_cholesterol  blood_sugar  \\\n",
       "0     63    1                     145                233            1   \n",
       "1     37    1                     130                250            0   \n",
       "2     41    0                     130                204            0   \n",
       "3     56    1                     120                236            0   \n",
       "4     57    0                     120                354            0   \n",
       "..   ...  ...                     ...                ...          ...   \n",
       "298   57    0                     140                241            0   \n",
       "299   45    1                     110                264            0   \n",
       "300   68    1                     144                193            1   \n",
       "301   57    1                     130                131            0   \n",
       "302   57    0                     130                236            0   \n",
       "\n",
       "     maximum_heart_rate  presence_of_heart_disease  \n",
       "0                   150                          1  \n",
       "1                   187                          1  \n",
       "2                   172                          1  \n",
       "3                   178                          1  \n",
       "4                   163                          1  \n",
       "..                  ...                        ...  \n",
       "298                 123                          0  \n",
       "299                 132                          0  \n",
       "300                 141                          0  \n",
       "301                 115                          0  \n",
       "302                 174                          0  \n",
       "\n",
       "[303 rows x 7 columns]"
      ]
     },
     "execution_count": 97,
     "metadata": {},
     "output_type": "execute_result"
    }
   ],
   "source": [
    "#sostituisco i nomi delle colonne con altri più descrittivi dal mio dizionario\n",
    "raw_data.columns = definitions.values()\n",
    "\n",
    "#elimino le colonne che non mi interessano\n",
    "data = raw_data.drop([\"st_depression_induced_by_exercise\",\"slope_of_the_peak_exercise_ST_segment\", \n",
    "                      \"number_of_major_vessels_(0-3)_colored_by_flourosopy\", \n",
    "                      \"3=normal_6=fixed_defect_7=reversable_defect\", \n",
    "                      \"resting_electrocardiographic_results\", \"exercise_induced_angina\", \"chest_pain_type\"], axis=1)\n",
    "data"
   ]
  },
  {
   "cell_type": "code",
   "execution_count": 98,
   "metadata": {},
   "outputs": [
    {
     "data": {
      "text/plain": [
       "1    207\n",
       "0     96\n",
       "Name: sex, dtype: int64"
      ]
     },
     "execution_count": 98,
     "metadata": {},
     "output_type": "execute_result"
    }
   ],
   "source": [
    "#conto i partecipanti di ciascun sesso\n",
    "partecipanti_per_sesso = data.sex.value_counts()\n",
    "partecipanti_per_sesso"
   ]
  },
  {
   "cell_type": "code",
   "execution_count": 99,
   "metadata": {},
   "outputs": [
    {
     "data": {
      "text/plain": [
       "sex  presence_of_heart_disease\n",
       "0    1                            0.750000\n",
       "     0                            0.250000\n",
       "1    0                            0.550725\n",
       "     1                            0.449275\n",
       "Name: presence_of_heart_disease, dtype: float64"
      ]
     },
     "execution_count": 99,
     "metadata": {},
     "output_type": "execute_result"
    }
   ],
   "source": [
    "#conto l'incidenza di malattia cardiaca per ciascun sesso aggregando i dati\n",
    "malattia_per_sesso = data.groupby(\"sex\")[\"presence_of_heart_disease\"]\n",
    "malattia_per_sesso.value_counts(normalize=True)"
   ]
  },
  {
   "cell_type": "code",
   "execution_count": 100,
   "metadata": {},
   "outputs": [],
   "source": [
    "#creo un dataset di sole donne\n",
    "donne = data[data.sex == 0]"
   ]
  },
  {
   "cell_type": "code",
   "execution_count": 101,
   "metadata": {},
   "outputs": [],
   "source": [
    "#creo  un dataset di soli uomini\n",
    "uomini = data[data.sex == 1]"
   ]
  },
  {
   "cell_type": "code",
   "execution_count": 102,
   "metadata": {},
   "outputs": [
    {
     "data": {
      "text/html": [
       "<div>\n",
       "<style scoped>\n",
       "    .dataframe tbody tr th:only-of-type {\n",
       "        vertical-align: middle;\n",
       "    }\n",
       "\n",
       "    .dataframe tbody tr th {\n",
       "        vertical-align: top;\n",
       "    }\n",
       "\n",
       "    .dataframe thead th {\n",
       "        text-align: right;\n",
       "    }\n",
       "</style>\n",
       "<table border=\"1\" class=\"dataframe\">\n",
       "  <thead>\n",
       "    <tr style=\"text-align: right;\">\n",
       "      <th></th>\n",
       "      <th>age</th>\n",
       "      <th>sex</th>\n",
       "      <th>resting_blood_pressure</th>\n",
       "      <th>serum_cholesterol</th>\n",
       "      <th>blood_sugar</th>\n",
       "      <th>maximum_heart_rate</th>\n",
       "      <th>presence_of_heart_disease</th>\n",
       "    </tr>\n",
       "  </thead>\n",
       "  <tbody>\n",
       "    <tr>\n",
       "      <th>0</th>\n",
       "      <td>63</td>\n",
       "      <td>1</td>\n",
       "      <td>145</td>\n",
       "      <td>233</td>\n",
       "      <td>1</td>\n",
       "      <td>150</td>\n",
       "      <td>1</td>\n",
       "    </tr>\n",
       "    <tr>\n",
       "      <th>13</th>\n",
       "      <td>64</td>\n",
       "      <td>1</td>\n",
       "      <td>110</td>\n",
       "      <td>211</td>\n",
       "      <td>0</td>\n",
       "      <td>144</td>\n",
       "      <td>1</td>\n",
       "    </tr>\n",
       "    <tr>\n",
       "      <th>17</th>\n",
       "      <td>66</td>\n",
       "      <td>0</td>\n",
       "      <td>150</td>\n",
       "      <td>226</td>\n",
       "      <td>0</td>\n",
       "      <td>114</td>\n",
       "      <td>1</td>\n",
       "    </tr>\n",
       "    <tr>\n",
       "      <th>19</th>\n",
       "      <td>69</td>\n",
       "      <td>0</td>\n",
       "      <td>140</td>\n",
       "      <td>239</td>\n",
       "      <td>0</td>\n",
       "      <td>151</td>\n",
       "      <td>1</td>\n",
       "    </tr>\n",
       "    <tr>\n",
       "      <th>23</th>\n",
       "      <td>61</td>\n",
       "      <td>1</td>\n",
       "      <td>150</td>\n",
       "      <td>243</td>\n",
       "      <td>1</td>\n",
       "      <td>137</td>\n",
       "      <td>1</td>\n",
       "    </tr>\n",
       "  </tbody>\n",
       "</table>\n",
       "</div>"
      ],
      "text/plain": [
       "    age  sex  resting_blood_pressure  serum_cholesterol  blood_sugar  \\\n",
       "0    63    1                     145                233            1   \n",
       "13   64    1                     110                211            0   \n",
       "17   66    0                     150                226            0   \n",
       "19   69    0                     140                239            0   \n",
       "23   61    1                     150                243            1   \n",
       "\n",
       "    maximum_heart_rate  presence_of_heart_disease  \n",
       "0                  150                          1  \n",
       "13                 144                          1  \n",
       "17                 114                          1  \n",
       "19                 151                          1  \n",
       "23                 137                          1  "
      ]
     },
     "execution_count": 102,
     "metadata": {},
     "output_type": "execute_result"
    }
   ],
   "source": [
    "#creo un dataset di ultrasessantenni\n",
    "terza_età = data[data.age > 60]\n",
    "terza_età.head()"
   ]
  },
  {
   "cell_type": "code",
   "execution_count": 103,
   "metadata": {},
   "outputs": [
    {
     "data": {
      "text/plain": [
       "35"
      ]
     },
     "execution_count": 103,
     "metadata": {},
     "output_type": "execute_result"
    }
   ],
   "source": [
    "terza_età[\"presence_of_heart_disease\"].sum()\n",
    "#output = 35 (su 79 rows totali, cioè 0.44%)"
   ]
  },
  {
   "cell_type": "code",
   "execution_count": 104,
   "metadata": {},
   "outputs": [
    {
     "data": {
      "text/html": [
       "<div>\n",
       "<style scoped>\n",
       "    .dataframe tbody tr th:only-of-type {\n",
       "        vertical-align: middle;\n",
       "    }\n",
       "\n",
       "    .dataframe tbody tr th {\n",
       "        vertical-align: top;\n",
       "    }\n",
       "\n",
       "    .dataframe thead th {\n",
       "        text-align: right;\n",
       "    }\n",
       "</style>\n",
       "<table border=\"1\" class=\"dataframe\">\n",
       "  <thead>\n",
       "    <tr style=\"text-align: right;\">\n",
       "      <th></th>\n",
       "      <th>age</th>\n",
       "      <th>sex</th>\n",
       "      <th>resting_blood_pressure</th>\n",
       "      <th>serum_cholesterol</th>\n",
       "      <th>blood_sugar</th>\n",
       "      <th>maximum_heart_rate</th>\n",
       "      <th>presence_of_heart_disease</th>\n",
       "    </tr>\n",
       "  </thead>\n",
       "  <tbody>\n",
       "    <tr>\n",
       "      <th>0</th>\n",
       "      <td>63</td>\n",
       "      <td>1</td>\n",
       "      <td>145</td>\n",
       "      <td>233</td>\n",
       "      <td>1</td>\n",
       "      <td>150</td>\n",
       "      <td>1</td>\n",
       "    </tr>\n",
       "    <tr>\n",
       "      <th>13</th>\n",
       "      <td>64</td>\n",
       "      <td>1</td>\n",
       "      <td>110</td>\n",
       "      <td>211</td>\n",
       "      <td>0</td>\n",
       "      <td>144</td>\n",
       "      <td>1</td>\n",
       "    </tr>\n",
       "    <tr>\n",
       "      <th>23</th>\n",
       "      <td>61</td>\n",
       "      <td>1</td>\n",
       "      <td>150</td>\n",
       "      <td>243</td>\n",
       "      <td>1</td>\n",
       "      <td>137</td>\n",
       "      <td>1</td>\n",
       "    </tr>\n",
       "    <tr>\n",
       "      <th>31</th>\n",
       "      <td>65</td>\n",
       "      <td>1</td>\n",
       "      <td>120</td>\n",
       "      <td>177</td>\n",
       "      <td>0</td>\n",
       "      <td>140</td>\n",
       "      <td>1</td>\n",
       "    </tr>\n",
       "    <tr>\n",
       "      <th>51</th>\n",
       "      <td>66</td>\n",
       "      <td>1</td>\n",
       "      <td>120</td>\n",
       "      <td>302</td>\n",
       "      <td>0</td>\n",
       "      <td>151</td>\n",
       "      <td>1</td>\n",
       "    </tr>\n",
       "  </tbody>\n",
       "</table>\n",
       "</div>"
      ],
      "text/plain": [
       "    age  sex  resting_blood_pressure  serum_cholesterol  blood_sugar  \\\n",
       "0    63    1                     145                233            1   \n",
       "13   64    1                     110                211            0   \n",
       "23   61    1                     150                243            1   \n",
       "31   65    1                     120                177            0   \n",
       "51   66    1                     120                302            0   \n",
       "\n",
       "    maximum_heart_rate  presence_of_heart_disease  \n",
       "0                  150                          1  \n",
       "13                 144                          1  \n",
       "23                 137                          1  \n",
       "31                 140                          1  \n",
       "51                 151                          1  "
      ]
     },
     "execution_count": 104,
     "metadata": {},
     "output_type": "execute_result"
    }
   ],
   "source": [
    "#creo un dataset con due condizioni che devono essere soddisfatte contemporaneamente: sesso maschile ed età oltre i 60 anni\n",
    "uomini_terza_età = (data.sex == 1)& (data.age > 60)\n",
    "data[uomini_terza_età].head()"
   ]
  },
  {
   "cell_type": "code",
   "execution_count": 105,
   "metadata": {},
   "outputs": [
    {
     "data": {
      "text/plain": [
       "(array([ 1, 13, 15, 16, 28, 32, 44, 65, 68, 69], dtype=int64),)"
      ]
     },
     "execution_count": 105,
     "metadata": {},
     "output_type": "execute_result"
    }
   ],
   "source": [
    "#trovo gli indici degli ultrasessantenni con una pressione sotto i 120\n",
    "np.where(terza_età.resting_blood_pressure < 120)"
   ]
  },
  {
   "cell_type": "code",
   "execution_count": 54,
   "metadata": {},
   "outputs": [
    {
     "data": {
      "image/png": "[encoded data removed]",
      "text/plain": [
       "<Figure size 432x288 with 1 Axes>"
      ]
     },
     "metadata": {},
     "output_type": "display_data"
    }
   ],
   "source": [
    "bins = [10,20,30,40,50,60,70,80,90,100]\n",
    "plt.hist(data.age,bins, color=\"k\", width=7);\n",
    "plt.title(\"Composizione campione\");\n",
    "plt.xlabel(\"age\");\n",
    "plt.ylabel(\"frequency\");\n",
    "plt.grid(False)\n"
   ]
  },
  {
   "cell_type": "code",
   "execution_count": 55,
   "metadata": {},
   "outputs": [
    {
     "data": {
      "image/png": "[encoded data removed]",
      "text/plain": [
       "<Figure size 432x288 with 1 Axes>"
      ]
     },
     "metadata": {},
     "output_type": "display_data"
    }
   ],
   "source": [
    "#creo un grafico a barre che rappresenti le percentuali di malattia per ciascun sesso a partire da questi dati:\n",
    "#  sex  presence_of_heart_disease    percentage\n",
    "#  F    1                            0.742268\n",
    "#       0                            0.257732\n",
    "#  M    0                            0.550725\n",
    "#       1                            0.449275\n",
    "#credo che 0 heart disease significhi malattia e 1 salute, controintuitivo. Rappresento i dati con questa interpretazione\n",
    "#faccio grafico a barre e non istogramma perchè non ho i valori (percentuali) in un dataframe\n",
    "\n",
    "malattia_donna = [\"sane\",\"malate di cuore\"]\n",
    "malattia_uomo = [\"sani\",\"malati di cuore\"]\n",
    "valori_donna = [74,25]\n",
    "valori_uomo= [44,55]\n",
    "plt.bar(malattia_donna, valori_donna, width=0.45, color = \"pink\", label = \"donne\");\n",
    "plt.bar(malattia_uomo, valori_uomo, width=0.45, color = \"b\", label =\"uomini\")\n",
    "plt.title(\"Salute e malattia nel campione diviso per sesso\");\n",
    "plt.ylabel(\"Percentuale\");\n",
    "plt.legend();\n"
   ]
  },
  {
   "cell_type": "code",
   "execution_count": 56,
   "metadata": {},
   "outputs": [
    {
     "data": {
      "text/plain": [
       "(array([  5,   8,   9,  24,  27,  29,  30,  31,  35,  53,  58,  62,  65,\n",
       "         87,  94, 102, 104, 111, 117, 124, 128, 136, 144, 149, 151, 155,\n",
       "        157, 162, 163, 164, 175, 178, 189, 192, 194, 200, 204, 208, 209,\n",
       "        225, 227, 244, 267, 279, 294, 295, 296, 297, 300, 301], dtype=int64),)"
      ]
     },
     "execution_count": 56,
     "metadata": {},
     "output_type": "execute_result"
    }
   ],
   "source": [
    "#trovo gli indici dei pazienti con colesterolo normale\n",
    "colesterolo = data[\"serum_cholesterol\"]\n",
    "np.where(colesterolo<200)"
   ]
  },
  {
   "cell_type": "code",
   "execution_count": 57,
   "metadata": {},
   "outputs": [],
   "source": [
    "#creo un dataframe che continene i pazienti con colesterolo normale\n",
    "colesterolo_normale = data.iloc[[5,   8,   9,  24,  27,  29,  30,  31,  35,  53,  58,  62,  65,\n",
    "         87,  94, 102, 104, 111, 117, 124, 128, 136, 144, 149, 151, 155,\n",
    "        157, 162, 163, 164, 175, 178, 189, 192, 194, 200, 204, 208, 209,\n",
    "        225, 227, 244, 267, 279, 294, 295, 296, 297, 300, 301]]"
   ]
  },
  {
   "cell_type": "code",
   "execution_count": 58,
   "metadata": {},
   "outputs": [
    {
     "data": {
      "text/plain": [
       "1    0.6\n",
       "0    0.4\n",
       "Name: presence_of_heart_disease, dtype: float64"
      ]
     },
     "execution_count": 58,
     "metadata": {},
     "output_type": "execute_result"
    }
   ],
   "source": [
    "#chiedo le percentuali di malattia cardiaca nei pazienti con colesterolo normale\n",
    "#credo che 0 heart disease significhi malattia e 1 salute, controintuitivo\n",
    "colesterolo_normale.presence_of_heart_disease.value_counts(normalize=True)"
   ]
  },
  {
   "cell_type": "code",
   "execution_count": 59,
   "metadata": {},
   "outputs": [
    {
     "data": {
      "text/plain": [
       "(array([  0,   1,   2,   3,   4,   6,   7,  10,  11,  12,  13,  14,  15,\n",
       "         16,  17,  18,  19,  20,  21,  22,  23,  25,  26,  28,  32,  33,\n",
       "         34,  36,  37,  38,  39,  40,  41,  42,  43,  44,  45,  46,  47,\n",
       "         48,  49,  50,  51,  52,  54,  55,  56,  57,  59,  60,  61,  63,\n",
       "         64,  66,  67,  68,  69,  70,  71,  72,  73,  74,  75,  76,  77,\n",
       "         78,  79,  80,  81,  82,  83,  84,  85,  86,  88,  89,  90,  91,\n",
       "         92,  93,  95,  96,  97,  98,  99, 100, 101, 103, 105, 106, 107,\n",
       "        108, 109, 110, 112, 113, 114, 115, 116, 118, 119, 120, 121, 122,\n",
       "        123, 125, 126, 127, 129, 130, 131, 132, 133, 134, 135, 137, 138,\n",
       "        139, 140, 141, 142, 143, 145, 146, 147, 148, 150, 152, 153, 154,\n",
       "        156, 158, 159, 160, 161, 165, 166, 167, 168, 169, 170, 171, 172,\n",
       "        173, 174, 176, 177, 179, 180, 181, 182, 183, 184, 185, 186, 187,\n",
       "        188, 190, 191, 193, 195, 196, 197, 198, 199, 201, 202, 203, 205,\n",
       "        206, 207, 210, 211, 212, 213, 214, 215, 216, 217, 218, 219, 220,\n",
       "        221, 222, 223, 224, 226, 228, 229, 230, 231, 232, 233, 234, 235,\n",
       "        236, 237, 238, 239, 240, 241, 242, 243, 245, 246, 247, 248, 249,\n",
       "        250, 251, 252, 253, 254, 255, 256, 257, 258, 259, 260, 261, 262,\n",
       "        263, 264, 265, 266, 268, 269, 270, 271, 272, 273, 274, 275, 276,\n",
       "        277, 278, 280, 281, 282, 283, 284, 285, 286, 287, 288, 289, 290,\n",
       "        291, 292, 293, 298, 299, 302], dtype=int64),)"
      ]
     },
     "execution_count": 59,
     "metadata": {},
     "output_type": "execute_result"
    }
   ],
   "source": [
    "#trovo gli indici dei pazienti con colesterolo alto\n",
    "np.where(colesterolo>=200)"
   ]
  },
  {
   "cell_type": "code",
   "execution_count": 60,
   "metadata": {},
   "outputs": [],
   "source": [
    "#creo un dataframe di pazienti con colesterolo alto\n",
    "colesterolo_alto = data.iloc[[0,   1,   2,   3,   4,   6,   7,  10,  11,  12,  13,  14,  15,\n",
    "         16,  17,  18,  19,  20,  21,  22,  23,  25,  26,  28,  32,  33,\n",
    "         34,  36,  37,  38,  39,  40,  41,  42,  43,  44,  45,  46,  47,\n",
    "         48,  49,  50,  51,  52,  54,  55,  56,  57,  59,  60,  61,  63,\n",
    "         64,  66,  67,  68,  69,  70,  71,  72,  73,  74,  75,  76,  77,\n",
    "         78,  79,  80,  81,  82,  83,  84,  85,  86,  88,  89,  90,  91,\n",
    "         92,  93,  95,  96,  97,  98,  99, 100, 101, 103, 105, 106, 107,\n",
    "        108, 109, 110, 112, 113, 114, 115, 116, 118, 119, 120, 121, 122,\n",
    "        123, 125, 126, 127, 129, 130, 131, 132, 133, 134, 135, 137, 138,\n",
    "        139, 140, 141, 142, 143, 145, 146, 147, 148, 150, 152, 153, 154,\n",
    "        156, 158, 159, 160, 161, 165, 166, 167, 168, 169, 170, 171, 172,\n",
    "        173, 174, 176, 177, 179, 180, 181, 182, 183, 184, 185, 186, 187,\n",
    "        188, 190, 191, 193, 195, 196, 197, 198, 199, 201, 202, 203, 205,\n",
    "        206, 207, 210, 211, 212, 213, 214, 215, 216, 217, 218, 219, 220,\n",
    "        221, 222, 223, 224, 226, 228, 229, 230, 231, 232, 233, 234, 235,\n",
    "        236, 237, 238, 239, 240, 241, 242, 243, 245, 246, 247, 248, 249,\n",
    "        250, 251, 252, 253, 254, 255, 256, 257, 258, 259, 260, 261, 262,\n",
    "        263, 264, 265, 266, 268, 269, 270, 271, 272, 273, 274, 275, 276,\n",
    "        277, 278, 280, 281, 282, 283, 284, 285, 286, 287, 288, 289, 290,\n",
    "        291, 292, 293, 298, 299, 302]]"
   ]
  },
  {
   "cell_type": "code",
   "execution_count": 61,
   "metadata": {},
   "outputs": [
    {
     "data": {
      "text/plain": [
       "1    0.533597\n",
       "0    0.466403\n",
       "Name: presence_of_heart_disease, dtype: float64"
      ]
     },
     "execution_count": 61,
     "metadata": {},
     "output_type": "execute_result"
    }
   ],
   "source": [
    "#chiedo la percentuale di malattia cardiaca nei pazienti con colesterolo alto\n",
    "#credo che 0 heart disease significhi malattia e 1 salute, controintuitivo\n",
    "colesterolo_alto.presence_of_heart_disease.value_counts(normalize=True)"
   ]
  },
  {
   "cell_type": "code",
   "execution_count": 62,
   "metadata": {},
   "outputs": [
    {
     "data": {
      "text/plain": [
       "0.08523910513756905"
      ]
     },
     "execution_count": 62,
     "metadata": {},
     "output_type": "execute_result"
    }
   ],
   "source": [
    "#metto il segno meno perchè credo che 0 heart disease significhi malattia e 1 salute, controintuitivo\n",
    "(data.serum_cholesterol).corr(-data.presence_of_heart_disease)\n",
    "#correlazione debole"
   ]
  },
  {
   "cell_type": "code",
   "execution_count": 63,
   "metadata": {},
   "outputs": [
    {
     "data": {
      "image/png": "[encoded data removed]",
      "text/plain": [
       "<Figure size 504x360 with 1 Axes>"
      ]
     },
     "metadata": {},
     "output_type": "display_data"
    }
   ],
   "source": [
    "#creo un grafico a barre che mostra la pressione per ogni età\n",
    "#come faccio a non fare sovrapporre le barre di diversi pazienti della stessa età? \n",
    "#posso creare bins per un grafico a barre invece che per un istogramma?\n",
    "plt.figure(figsize=(7,5))\n",
    "plt.bar(\"age\", \"resting_blood_pressure\", data=data, color= \"y\", width=1);\n",
    "plt.title(\"Pressure by age\", size= 15);\n",
    "plt.xlabel(\"age\", size=15);\n",
    "plt.ylabel(\"resting blood pressure\", size=15);"
   ]
  },
  {
   "cell_type": "code",
   "execution_count": 64,
   "metadata": {},
   "outputs": [
    {
     "data": {
      "text/plain": [
       "-0.009939838642698208"
      ]
     },
     "execution_count": 64,
     "metadata": {},
     "output_type": "execute_result"
    },
    {
     "data": {
      "image/png": "[encoded data removed]",
      "text/plain": [
       "<Figure size 432x288 with 1 Axes>"
      ]
     },
     "metadata": {},
     "output_type": "display_data"
    }
   ],
   "source": [
    "#cerchiamo se c'è una relazione tra colesterolo e freq.cardiaca massima con uno scatterplot e matematicamente\n",
    "plt.scatter(\"serum_cholesterol\", \"maximum_heart_rate\", data=data);\n",
    "plt.xlabel(\"colesterolo\");\n",
    "plt.ylabel(\"freq. cardiaca massima\");\n",
    "plt.title(\"Ricerca di correlazioni\");\n",
    "\n",
    "data.serum_cholesterol.corr(data.maximum_heart_rate)\n",
    "#non c'è correlazione e si vede"
   ]
  },
  {
   "cell_type": "code",
   "execution_count": 90,
   "metadata": {},
   "outputs": [
    {
     "data": {
      "image/png": "[encoded data removed]",
      "text/plain": [
       "<Figure size 432x288 with 2 Axes>"
      ]
     },
     "metadata": {},
     "output_type": "display_data"
    }
   ],
   "source": [
    "#composizione del campione per quanto riguarda pressione e colesterolo, fatto con i subplots\n",
    "fig, (ax1, ax2) = plt.subplots(nrows = 1, ncols = 2)\n",
    "fig.tight_layout()\n",
    "ax1.hist([data.resting_blood_pressure]);\n",
    "ax2.hist([data.serum_cholesterol]);\n",
    "ax1.set_xlabel(\"pressione a riposo\");\n",
    "ax2.set_xlabel(\"colesterolo\");\n",
    "ax1.set_ylabel(\"frequenza\");\n",
    "ax2.set_ylabel(\"frequenza\");\n"
   ]
  }
 ],
 "metadata": {
  "kernelspec": {
   "display_name": "Python 3",
   "language": "python",
   "name": "python3"
  },
  "language_info": {
   "codemirror_mode": {
    "name": "ipython",
    "version": 3
   },
   "file_extension": ".py",
   "mimetype": "text/x-python",
   "name": "python",
   "nbconvert_exporter": "python",
   "pygments_lexer": "ipython3",
   "version": "3.8.5"
  }
 },
 "nbformat": 4,
 "nbformat_minor": 4
}
