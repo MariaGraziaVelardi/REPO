{
 "cells": [
  {
   "cell_type": "code",
   "execution_count": 36,
   "metadata": {},
   "outputs": [
    {
     "name": "stdout",
     "output_type": "stream",
     "text": [
      "il numero più grande nella lista è 9\n",
      "il numero più piccolo nella lista è 0\n",
      "la somma dei numeri nella lista è 31\n",
      "la media dei numeri nella lista è 5.166666666666667\n"
     ]
    }
   ],
   "source": [
    "#Data questa lista di interi lista = [0,2,5,7,8.9] calcola il massimo, minimo, somma e media dei suoi elementi\n",
    "\n",
    "lista = [0, 2, 5, 7, 8, 9]\n",
    "print(\"il numero più grande nella lista è\", max(lista))\n",
    "print(\"il numero più piccolo nella lista è\", min(lista))\n",
    "print(\"la somma dei numeri nella lista è\", sum(lista))\n",
    "print(\"la media dei numeri nella lista è\", sum(lista)/len(lista))\n"
   ]
  },
  {
   "cell_type": "code",
   "execution_count": 56,
   "metadata": {},
   "outputs": [
    {
     "data": {
      "text/plain": [
       "[1, 7, 9, 9, 4]"
      ]
     },
     "execution_count": 56,
     "metadata": {},
     "output_type": "execute_result"
    }
   ],
   "source": [
    "#Crea una lista vuota, inserisci numeri interi a tuo piacimento alla lista e poi rimuovi da essa solo i numeri pari\n",
    "\n",
    "lista_dispari = []\n",
    "lista_dispari = lista_dispari + [1, 2, 4, 6, 7, 8, 9, 9, 4]\n",
    "for i in lista_dispari:\n",
    "    if i % 2 == 0:\n",
    "        lista_dispari.remove(i)\n",
    "    else:\n",
    "        pass\n",
    "lista_dispari\n",
    "\n",
    "#non capisco perchè uno dei due 4 resta nella lista"
   ]
  },
  {
   "cell_type": "code",
   "execution_count": 67,
   "metadata": {},
   "outputs": [
    {
     "name": "stdout",
     "output_type": "stream",
     "text": [
      "False\n"
     ]
    }
   ],
   "source": [
    "#Crea una funzione che restituisca True se la lista di numeri interi che prende come parametro è una lista di quadrati \n",
    "#perfetti (es 4, 9, 16 ecc..), False altrimenti\n",
    "\n",
    "import math \n",
    "\n",
    "def quadrato_perfetto(lista):\n",
    "    for i in lista:\n",
    "        root = math.sqrt(i)\n",
    "        if root ** 2 == i:\n",
    "            i == 0\n",
    "\n",
    "if sum(lista) == 0:\n",
    "    print(True)\n",
    "else:\n",
    "    print(False)\n",
    "            \n",
    "lista = [1, 2, 3, 4, 5, 9, 16]\n",
    "quadrato_perfetto(lista)"
   ]
  },
  {
   "cell_type": "code",
   "execution_count": null,
   "metadata": {},
   "outputs": [],
   "source": [
    "#Svolgi l'esercizio precedente utilizzando una compressione di liste"
   ]
  }
 ],
 "metadata": {
  "kernelspec": {
   "display_name": "Python 3",
   "language": "python",
   "name": "python3"
  },
  "language_info": {
   "codemirror_mode": {
    "name": "ipython",
    "version": 3
   },
   "file_extension": ".py",
   "mimetype": "text/x-python",
   "name": "python",
   "nbconvert_exporter": "python",
   "pygments_lexer": "ipython3",
   "version": "3.8.5"
  }
 },
 "nbformat": 4,
 "nbformat_minor": 4
}
