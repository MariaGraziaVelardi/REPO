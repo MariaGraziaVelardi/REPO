{
 "cells": [
  {
   "cell_type": "code",
   "execution_count": 2,
   "metadata": {},
   "outputs": [
    {
     "name": "stdout",
     "output_type": "stream",
     "text": [
      "La somma di 6 e 2 è: 8\n"
     ]
    }
   ],
   "source": [
    "#definisce funzione per sommare due numeri \n",
    "def addizione(numero1, numero2):\n",
    "\tsomma = numero1 + numero2\n",
    "\tprint(\"La somma di {} e {} è: {}\" .format(numero1, numero2, somma))\n",
    "\treturn somma\n",
    "totale = addizione(6, 2)\n"
   ]
  },
  {
   "cell_type": "code",
   "execution_count": 3,
   "metadata": {},
   "outputs": [
    {
     "name": "stdout",
     "output_type": "stream",
     "text": [
      "Le due stringhe concatenate e maiuscole sono: IO SONO MARIA GRAZIA\n"
     ]
    }
   ],
   "source": [
    "#definisce funzione per concatenare due stringhe \n",
    "def concatena(stringa1, stringa2):\n",
    "    stringheunite = stringa1 + stringa2\n",
    "    print(\"Le due stringhe concatenate e maiuscole sono:\", stringheunite.upper())\n",
    "    return(stringheunite.upper())\n",
    "presentazione = concatena(\"io sono\", \" maria grazia\")"
   ]
  },
  {
   "cell_type": "code",
   "execution_count": 6,
   "metadata": {},
   "outputs": [
    {
     "name": "stdout",
     "output_type": "stream",
     "text": [
      "Il doppio di 5 è 10, mentre il triplo di 10 è 30\n"
     ]
    }
   ],
   "source": [
    "#definisce funzione che raddoppia il primo argomento e triplica il secondo\n",
    "def raddoppia_e_triplica(parametro1, parametro2):\n",
    "\traddoppiato = parametro1 * 2\n",
    "\ttriplicato = parametro2 * 3\n",
    "\tprint(\"Il doppio di {} è {}, mentre il triplo di {} è {}\".format(parametro1, raddoppiato, parametro2, triplicato))\n",
    "\treturn raddoppiato, triplicato\n",
    "risultato = raddoppia_e_triplica(5, 10)"
   ]
  },
  {
   "cell_type": "code",
   "execution_count": 4,
   "metadata": {},
   "outputs": [
    {
     "name": "stdout",
     "output_type": "stream",
     "text": [
      "Il carattere a è una vocale\n"
     ]
    }
   ],
   "source": [
    "#definisce funzione che controlla se il parametro è una vocale\n",
    "def sei_una_vocale(parametro1):\n",
    "    vocali = \"aeiou\"\n",
    "    if parametro1 in vocali:\n",
    "        print(\"Il carattere\", parametro1, \"è una vocale\")\n",
    "    else:\n",
    "        print(\"Il carattere\"), parametro1, \"non è una vocale\"\n",
    "sei_una_vocale(\"a\")"
   ]
  },
  {
   "cell_type": "code",
   "execution_count": 5,
   "metadata": {},
   "outputs": [
    {
     "name": "stdout",
     "output_type": "stream",
     "text": [
      "3\n"
     ]
    }
   ],
   "source": [
    "#definisce funzione che stampa il numero maggiore di due\n",
    "def stampa_max(numero1, numero2):\n",
    "    if numero1 > numero2:\n",
    "        print(numero1)\n",
    "    elif numero1 < numero2:\n",
    "        print(numero2)\n",
    "    else:\n",
    "        print(\"I due numeri sono uguali\")\n",
    "stampa_max(2,3)"
   ]
  }
 ],
 "metadata": {
  "kernelspec": {
   "display_name": "Python 3",
   "language": "python",
   "name": "python3"
  },
  "language_info": {
   "codemirror_mode": {
    "name": "ipython",
    "version": 3
   },
   "file_extension": ".py",
   "mimetype": "text/x-python",
   "name": "python",
   "nbconvert_exporter": "python",
   "pygments_lexer": "ipython3",
   "version": "3.8.5"
  }
 },
 "nbformat": 4,
 "nbformat_minor": 4
}
