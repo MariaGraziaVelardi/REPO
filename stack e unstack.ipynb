{
 "cells": [
  {
   "cell_type": "code",
   "execution_count": 12,
   "metadata": {},
   "outputs": [
    {
     "data": {
      "text/html": [
       "<div>\n",
       "<style scoped>\n",
       "    .dataframe tbody tr th:only-of-type {\n",
       "        vertical-align: middle;\n",
       "    }\n",
       "\n",
       "    .dataframe tbody tr th {\n",
       "        vertical-align: top;\n",
       "    }\n",
       "\n",
       "    .dataframe thead th {\n",
       "        text-align: right;\n",
       "    }\n",
       "</style>\n",
       "<table border=\"1\" class=\"dataframe\">\n",
       "  <thead>\n",
       "    <tr style=\"text-align: right;\">\n",
       "      <th></th>\n",
       "      <th>nome</th>\n",
       "      <th>minuti_arrivo_casa</th>\n",
       "      <th>minuti_arrivo_scuola</th>\n",
       "    </tr>\n",
       "    <tr>\n",
       "      <th>giorno</th>\n",
       "      <th></th>\n",
       "      <th></th>\n",
       "      <th></th>\n",
       "    </tr>\n",
       "  </thead>\n",
       "  <tbody>\n",
       "    <tr>\n",
       "      <th>1</th>\n",
       "      <td>marco</td>\n",
       "      <td>10</td>\n",
       "      <td>20</td>\n",
       "    </tr>\n",
       "    <tr>\n",
       "      <th>1</th>\n",
       "      <td>giorgio</td>\n",
       "      <td>15</td>\n",
       "      <td>23</td>\n",
       "    </tr>\n",
       "    <tr>\n",
       "      <th>2</th>\n",
       "      <td>marco</td>\n",
       "      <td>16</td>\n",
       "      <td>30</td>\n",
       "    </tr>\n",
       "    <tr>\n",
       "      <th>2</th>\n",
       "      <td>giorgio</td>\n",
       "      <td>38</td>\n",
       "      <td>50</td>\n",
       "    </tr>\n",
       "  </tbody>\n",
       "</table>\n",
       "</div>"
      ],
      "text/plain": [
       "           nome  minuti_arrivo_casa  minuti_arrivo_scuola\n",
       "giorno                                                   \n",
       "1         marco                  10                    20\n",
       "1       giorgio                  15                    23\n",
       "2         marco                  16                    30\n",
       "2       giorgio                  38                    50"
      ]
     },
     "execution_count": 12,
     "metadata": {},
     "output_type": "execute_result"
    }
   ],
   "source": [
    "import pandas as pd\n",
    "data = [1, \"marco\", 10, 20],[1, \"giorgio\",15,23],[2, \"marco\",16,30],[2,\"giorgio\", 38, 50]\n",
    "df = pd.DataFrame(data, columns = [\"giorno\", \"nome\", \"minuti_arrivo_casa\", \"minuti_arrivo_scuola\"])\n",
    "df.set_index(\"giorno\")"
   ]
  },
  {
   "cell_type": "code",
   "execution_count": 16,
   "metadata": {},
   "outputs": [
    {
     "data": {
      "text/plain": [
       "0  giorno                        1\n",
       "   nome                      marco\n",
       "   minuti_arrivo_casa           10\n",
       "   minuti_arrivo_scuola         20\n",
       "1  giorno                        1\n",
       "   nome                    giorgio\n",
       "   minuti_arrivo_casa           15\n",
       "   minuti_arrivo_scuola         23\n",
       "2  giorno                        2\n",
       "   nome                      marco\n",
       "   minuti_arrivo_casa           16\n",
       "   minuti_arrivo_scuola         30\n",
       "3  giorno                        2\n",
       "   nome                    giorgio\n",
       "   minuti_arrivo_casa           38\n",
       "   minuti_arrivo_scuola         50\n",
       "dtype: object"
      ]
     },
     "execution_count": 16,
     "metadata": {},
     "output_type": "execute_result"
    }
   ],
   "source": [
    "#dettaglio di ciascuna riga\n",
    "df.stack()"
   ]
  },
  {
   "cell_type": "code",
   "execution_count": 14,
   "metadata": {},
   "outputs": [
    {
     "data": {
      "text/plain": [
       "giorno                0          1\n",
       "                      1          1\n",
       "                      2          2\n",
       "                      3          2\n",
       "nome                  0      marco\n",
       "                      1    giorgio\n",
       "                      2      marco\n",
       "                      3    giorgio\n",
       "minuti_arrivo_casa    0         10\n",
       "                      1         15\n",
       "                      2         16\n",
       "                      3         38\n",
       "minuti_arrivo_scuola  0         20\n",
       "                      1         23\n",
       "                      2         30\n",
       "                      3         50\n",
       "dtype: object"
      ]
     },
     "execution_count": 14,
     "metadata": {},
     "output_type": "execute_result"
    }
   ],
   "source": [
    "#dettaglio di ciascuna colonna\n",
    "df.unstack()"
   ]
  }
 ],
 "metadata": {
  "kernelspec": {
   "display_name": "Python 3",
   "language": "python",
   "name": "python3"
  },
  "language_info": {
   "codemirror_mode": {
    "name": "ipython",
    "version": 3
   },
   "file_extension": ".py",
   "mimetype": "text/x-python",
   "name": "python",
   "nbconvert_exporter": "python",
   "pygments_lexer": "ipython3",
   "version": "3.8.5"
  }
 },
 "nbformat": 4,
 "nbformat_minor": 4
}
